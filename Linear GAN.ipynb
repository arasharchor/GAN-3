{
 "cells": [
  {
   "cell_type": "markdown",
   "metadata": {},
   "source": [
    "Goal: Do a similar analysis on linear GAN and find fixed points (like baldi/saxe)\n",
    "\n",
    "***\n",
    "\n",
    "Generative net is a single layer. Discriminative net is a single layer.\n",
    "\n",
    "$$\n",
    "\\begin{align}\n",
    "G(z) &= g = Bz \\\\\n",
    "D(y) &=  \\frac{1}{1+e^{-Ay}} \\\\\n",
    "L_D(A,B) &= -ln(d(x)) -ln(d(g))\\\\\n",
    "L_G(A,B) &= ln(d(g))\\\\\n",
    "L &= L_D + L_G \\tag{???} = ln(d(x))\\\\\n",
    " \\\\\n",
    "\\Delta_A L_D(A,B) &= \\Delta_A (-ln(d(x)) -ln(d(g))) = 0\\\\\n",
    "&= \\Delta_A \\Big( ln(1+e^{-Ax})) + ln(1+e^{-ABz}))  \\Big) \\\\\n",
    "\\end{align}\n",
    "$$\n",
    "\n",
    "?? so it isnt the same as a linear net. symbolically (kinda...) it is the same update rule, but ...\n",
    "\n",
    "$$\n",
    "\\begin{align}\n",
    "\\frac{\\partial E}{\\partial W} &= T (1-\\frac{1}{1+e^{-WX}}) X = 0 \\tag{so what W makes it 0?}\\\\\n",
    "&\\implies  \\frac{1}{1+e^{-WX}}= 1\\\\\n",
    "&=  1+e^{-WX}\\\\\n",
    "log(1) &= log(1+e^{-WX}) \\\\\n",
    "0 = ?? \\\\\n",
    "&= \\left\\{\\begin{array}{lr}\n",
    "\\sum_t T^t (1-1) X &\\text{for} \\quad e^{-WX} = 0\\\\\n",
    "\\sum_t T^t (1-\\frac{1}{0}) X &e^{-WX} = 1\\\\\n",
    "\\end{array}\\right\\}\n",
    "\\end{align}\n",
    "$$\n",
    "\n",
    "Hmm. So W is not well defined... I guess I should have expected that. Sigmoids saturate... So what do we do if we cant solve for the gradient at zero?\n",
    "Wait a minute, those are just trivial solutions, what about the one that first the data?!?\n"
   ]
  }
 ],
 "metadata": {
  "kernelspec": {
   "display_name": "Python 3",
   "language": "python",
   "name": "python3"
  },
  "language_info": {
   "codemirror_mode": {
    "name": "ipython",
    "version": 3
   },
   "file_extension": ".py",
   "mimetype": "text/x-python",
   "name": "python",
   "nbconvert_exporter": "python",
   "pygments_lexer": "ipython3",
   "version": "3.5.1"
  }
 },
 "nbformat": 4,
 "nbformat_minor": 0
}
