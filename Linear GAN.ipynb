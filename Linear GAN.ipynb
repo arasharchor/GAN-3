{
 "cells": [
  {
   "cell_type": "markdown",
   "metadata": {},
   "source": [
    "Generative net is a single layer. Discriminative net is a single layer.\n",
    "\n",
    "$$\n",
    "\\begin{align}\n",
    "G(z) &= g = Bz \\\\\n",
    "D(y) &=  \\frac{1}{1+e^{-Ay}} \\\\\n",
    "L_D(A,B) &= -ln(d(x)) -ln(d(g))\\\\\n",
    "L_G(A,B) &= ln(d(g))\\\\\n",
    "L &= L_D + L_G \\tag{???} = ln(d(x))\\\\\n",
    " \\\\\n",
    "\\Delta_A L_D(A,B) &= \\Delta_A (-ln(d(x)) -ln(d(g))) = 0\\\\\n",
    "&= \\Delta_A \\Big( ln(1+e^{-Ax})) + ln(1+e^{-ABz}))  \\Big) \\\\\n",
    "\\end{align}\n",
    "$$\n",
    "\n"
   ]
  }
 ],
 "metadata": {
  "kernelspec": {
   "display_name": "Haskell",
   "language": "haskell",
   "name": "haskell"
  },
  "language_info": {
   "codemirror_mode": "ihaskell",
   "file_extension": ".hs",
   "name": "haskell",
   "version": "7.10.3"
  }
 },
 "nbformat": 4,
 "nbformat_minor": 0
}
