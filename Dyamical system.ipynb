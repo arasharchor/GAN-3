{
 "cells": [
  {
   "cell_type": "markdown",
   "metadata": {},
   "source": [
    "Like a arms race. As one gets better, the other does as well, until ???. Is there a way to use tools from dynamical systems to analyse this? This just reminds me of the typical 2D population dynamics. \n",
    "\n",
    "* __How can analysis of these equations help us design a training/learning parameter schedule?__\n",
    "* Do all zero sum minimax games have a dynamical systems iterpretation?\n",
    "* Find fixed points and design for them? What an oscillatory fixed point.\n",
    "\n",
    "Wait, not quite the right dynamics? \n",
    "Rabbits (gen) go to infinity without any wolves.\n",
    "Wolves (dis) need rabbits to survive.\n",
    "No, thats kinda right?\n",
    "\n",
    "***\n",
    "\n",
    "$$\n",
    "\\begin{align}\n",
    "\\frac{dx}{dt} &= x(\\alpha - \\beta y) \\tag{lotka-volterra eqns}\\\\\n",
    "\\frac{dy}{dt} &= y(\\delta x  - \\gamma ) \\\\\n",
    " \\\\\n",
    "\\Delta\\mathcal{L}_{Gen} \\Big|_{x_t} &\\approx \\frac{d \\mathcal{L}_{Gen}}{dt} = - \\eta_{Gen} \\frac{\\partial \\mathcal{L}_{Gen}}{\\partial \\theta_{Gen}} \\tag{cts GAN update rules}\\\\\n",
    "\\frac{d \\mathcal{L}_{Dis}}{dt} &= - \\eta_{Dis} \\frac{\\partial \\mathcal{L}_{Dis}}{\\partial \\theta_{Dis}} \\\\\n",
    " \\\\\n",
    "\\eta_{Gen} &= (\\alpha - \\beta \\frac{d \\mathcal{L}_{Dis}}{dt}) \\tau_{opt} \\tag{let $\\eta$}\\\\\n",
    "\\eta_{Dis} &= (\\gamma - \\delta \\frac{d \\mathcal{L}_{Gen}}{dt}) \\tau_{opt} \\\\\n",
    " \\\\\n",
    "\\frac{d \\mathcal{L}_{Gen}}{dt} &= - \\frac{\\partial \\mathcal{L}_{Gen}}{\\partial \\theta_{Gen}}( \\alpha - \\beta \\frac{d \\mathcal{L}_{Dis}}{dt} ) \\\\\n",
    "\\frac{d \\mathcal{L}_{Dis}}{dt} &= - \\frac{\\partial \\mathcal{L}_{Dis}}{\\partial \\theta_{Dis}}( \\gamma - \\delta \\frac{d \\mathcal{L}_{Gen}}{dt} ) \\\\\n",
    "\\end{align}\n",
    "$$\n",
    "\n",
    "***\n",
    "So for fixed points, we have two situations? Death and oscilation.\n",
    "\n",
    "\n",
    "$$\n",
    "J\\left({\\frac {\\gamma }{\\delta }},{\\frac {\\alpha }{\\beta }}\\right)=\n",
    "\\begin{bmatrix}\n",
    "0&-{\\frac {\\beta \\gamma }{\\delta }}\\\\\n",
    "{\\frac {\\alpha \\delta }{\\beta }}&0\n",
    "\\end{bmatrix} \\\\\n",
    "$$\n",
    "\n",
    "Hessian?!?\n",
    "$$\n",
    "H(x,y) = \n",
    "\\begin{bmatrix}\n",
    "\\alpha & \\beta \\\\\n",
    "\\end{bmatrix}\n",
    "$$\n",
    "\n",
    "So if;\n",
    "\n",
    "* the reconstruction cost is zero then the reconstion cost will be stable at zero.\n",
    "* "
   ]
  },
  {
   "cell_type": "code",
   "execution_count": null,
   "metadata": {
    "collapsed": true
   },
   "outputs": [],
   "source": [
    "#make a simple version of the lokta voltera equations\n",
    "using pyplot\n",
    "dy = "
   ]
  }
 ],
 "metadata": {
  "kernelspec": {
   "display_name": "Julia 0.4.6",
   "language": "julia",
   "name": "julia-0.4"
  },
  "language_info": {
   "file_extension": ".jl",
   "mimetype": "application/julia",
   "name": "julia",
   "version": "0.4.6"
  }
 },
 "nbformat": 4,
 "nbformat_minor": 0
}
