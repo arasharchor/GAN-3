{
 "cells": [
  {
   "cell_type": "markdown",
   "metadata": {},
   "source": [
    "Hmm. Need to organise this properly.\n",
    "\n",
    "If discriminator is too good then ??\n",
    "\n",
    "\n",
    "### Simple\n",
    "\n",
    "Training a 2 layer dis, and 2 layer gen.\n",
    "\n",
    "* Generated all ones (should have taken pic)\n",
    "* Dis loss tends to be super low, while gen loss is high. Dis loss is minimised super quick.\n",
    "* "
   ]
  }
 ],
 "metadata": {
  "kernelspec": {
   "display_name": "Python 3",
   "language": "python",
   "name": "python3"
  },
  "language_info": {
   "codemirror_mode": {
    "name": "ipython",
    "version": 3
   },
   "file_extension": ".py",
   "mimetype": "text/x-python",
   "name": "python",
   "nbconvert_exporter": "python",
   "pygments_lexer": "ipython3",
   "version": "3.5.1"
  }
 },
 "nbformat": 4,
 "nbformat_minor": 0
}
