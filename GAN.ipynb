{
 "cells": [
  {
   "cell_type": "code",
   "execution_count": 1,
   "metadata": {
    "collapsed": false
   },
   "outputs": [],
   "source": [
    "import numpy as np\n",
    "import tensorflow as tf"
   ]
  },
  {
   "cell_type": "code",
   "execution_count": 2,
   "metadata": {
    "collapsed": true
   },
   "outputs": [],
   "source": [
    "### hyper params\n",
    "D_data = 784\n",
    "D_noise = 10\n",
    "batch_size = 50"
   ]
  },
  {
   "cell_type": "code",
   "execution_count": 3,
   "metadata": {
    "collapsed": false
   },
   "outputs": [],
   "source": [
    "image_input = tf.placeholder(tf.float32,shape=[None,D_data])\n",
    "noise_input = tf.placeholder(tf.float32,shape=[None,D_noise])"
   ]
  },
  {
   "cell_type": "code",
   "execution_count": 4,
   "metadata": {
    "collapsed": false
   },
   "outputs": [
    {
     "name": "stdout",
     "output_type": "stream",
     "text": [
      "\n",
      "Trans0 => Shape: [10, 100]   Mapping: f(x)\n",
      "BN_layer1 =>    Mapping: f(x)\n",
      "<function relu at 0x108fd6e18>   Mapping: f(x)\n",
      "Trans2 => Shape: [100, 50]   Mapping: f(x)\n",
      "BN_layer3 =>    Mapping: f(x)\n",
      "<function relu at 0x108fd6e18>   Mapping: f(x)\n",
      "Trans4 => Shape: [50, 784]   Mapping: f(x)\n",
      "<function relu at 0x108fd6e18>   Mapping: f(x)\n",
      "\n",
      "\n",
      "Trans5 => Shape: [784, 100]   Mapping: f(x)\n",
      "BN_layer6 =>    Mapping: f(x)\n",
      "<function relu at 0x108fd6e18>   Mapping: f(x)\n",
      "Trans7 => Shape: [100, 50]   Mapping: f(x)\n",
      "BN_layer8 =>    Mapping: f(x)\n",
      "<function relu at 0x108fd6e18>   Mapping: f(x)\n",
      "Trans9 => Shape: [50, 1]   Mapping: f(x)\n",
      "<function sigmoid at 0x108f77ae8>   Mapping: f(x)\n",
      "\n"
     ]
    }
   ],
   "source": [
    "from Classes.LayerClass import FC, BN\n",
    "from Classes.ModuleClass import FF, LinearModule\n",
    "\n",
    "#generative net architecture\n",
    "#with tf.variable_scope('lol',collec)\n",
    "layers = [FC([D_noise,100]),BN(),tf.nn.relu,\n",
    "          FC([100,50]),BN(),tf.nn.relu,\n",
    "          FC([50,D_data]),tf.nn.relu]\n",
    "gen_func = LinearModule(layers)\n",
    "print(gen_func)\n",
    "\n",
    "#discriminative net architecture\n",
    "layers = [FC([D_data,100]),BN(),tf.nn.relu,\n",
    "          FC([100,50]),BN(),tf.nn.relu,\n",
    "         FC([50,1]),tf.nn.sigmoid]\n",
    "dis_func = LinearModule(layers)\n",
    "print(dis_func)\n",
    "\n",
    "gen_im = gen_func(noise_input)\n",
    "tf.image_summary('generatedims',tf.reshape(gen_im,[batch_size,28,28,1]),max_images=30)\n",
    "gen_out = dis_func(gen_im)\n",
    "data_out = dis_func(image_input)"
   ]
  },
  {
   "cell_type": "code",
   "execution_count": 5,
   "metadata": {
    "collapsed": false
   },
   "outputs": [],
   "source": [
    "def loss(x):\n",
    "    return tf.reduce_mean(tf.reduce_sum(tf.log(x),reduction_indices=[1]))\n",
    "\n",
    "def dis_loss_fn(gen_out,data_out):\n",
    "    with tf.name_scope('disloss'):\n",
    "        return -loss(1-gen_out) - loss(data_out) #want: gen_out -> close to zero ;; d_out -> close to one\n",
    "\n",
    "def gen_loss_fn(gen_out,data_out):\n",
    "    with tf.name_scope('genloss'):\n",
    "        return -loss(gen_out) #want: gen_out -> to trick dis into ones"
   ]
  },
  {
   "cell_type": "code",
   "execution_count": 6,
   "metadata": {
    "collapsed": false
   },
   "outputs": [
    {
     "data": {
      "text/plain": [
       "<tf.Tensor 'ScalarSummary_2:0' shape=() dtype=string>"
      ]
     },
     "execution_count": 6,
     "metadata": {},
     "output_type": "execute_result"
    }
   ],
   "source": [
    "variables = tf.get_collection(tf.GraphKeys.VARIABLES)\n",
    "index = int(len(variables)/2)\n",
    "\n",
    "gen_loss = gen_loss_fn(gen_out,data_out)\n",
    "tf.scalar_summary('genloss',gen_loss)\n",
    "#gen_vars = tf.get_collection(tf.GraphKeys.VARIABLES, scope=gen_func.name)\n",
    "gen_vars = variables[0:index-1]\n",
    "\n",
    "dis_loss = dis_loss_fn(gen_out,data_out)\n",
    "tf.scalar_summary('disloss',dis_loss)\n",
    "#dis_vars = tf.get_collection(tf.GraphKeys.VARIABLES, scope=dis_func.name)\n",
    "dis_vars = variables[index:]\n",
    "\n",
    "\n",
    "def acc(x,t):\n",
    "    return tf.reduce_mean(tf.cast(tf.equal(t,x), tf.float32))\n",
    "accuracy = acc(gen_out,0.0) + acc(data_out,1.0)\n",
    "tf.scalar_summary('accuracy', accuracy)"
   ]
  },
  {
   "cell_type": "code",
   "execution_count": 7,
   "metadata": {
    "collapsed": false
   },
   "outputs": [],
   "source": [
    "gen_opt = tf.train.MomentumOptimizer(0.001,0.5)\n",
    "#gen_opt = tf.train.RMSPropOptimizer(0.001, decay=0.99999, momentum=0.5)\n",
    "#gen_opt = tf.train.AdamOptimizer(0.001)\n",
    "gen_step = gen_opt.minimize(loss=gen_loss,var_list=gen_vars)\n",
    "\n",
    "dis_opt = tf.train.MomentumOptimizer(0.001,0.5)\n",
    "#dis_opt = tf.train.RMSPropOptimizer(0.001, decay=0.99999, momentum=0.5)\n",
    "#dis_opt = tf.train.AdamOptimizer(0.001)\n",
    "dis_step = dis_opt.minimize(loss=dis_loss,var_list=dis_vars)"
   ]
  },
  {
   "cell_type": "code",
   "execution_count": 8,
   "metadata": {
    "collapsed": true
   },
   "outputs": [],
   "source": [
    "def feeder(ims,labels):\n",
    "    x = ims.reshape(batch_size,D_data)/255\n",
    "    z = np.random.standard_normal((batch_size,D_noise))\n",
    "    return {image_input:x,noise_input:z}\n",
    "\n",
    "def fetcher(sess,feed):\n",
    "    gL,dL,gO,dO,gim = sess.run([gen_loss,dis_loss,gen_out,data_out,gen_im],feed)\n",
    "    print('\\r Gen Loss: {:.7f} Dis Loss: {:.7f}'.format(gL,dL),end='')\n",
    "    return gen_im"
   ]
  },
  {
   "cell_type": "code",
   "execution_count": null,
   "metadata": {
    "collapsed": false
   },
   "outputs": [],
   "source": [
    "log_dir = 'Tensorboard/'\n",
    "if tf.gfile.Exists(log_dir):\n",
    "    tf.gfile.DeleteRecursively(log_dir)\n",
    "tf.gfile.MakeDirs(log_dir)\n",
    "\n",
    "from fuel.datasets import MNIST\n",
    "mnist = MNIST(('train',))\n",
    "state = mnist.open()\n",
    "from fuel.schemes import ShuffledScheme \n",
    "scheme = ShuffledScheme(examples=int(mnist.num_examples), batch_size=batch_size)"
   ]
  },
  {
   "cell_type": "code",
   "execution_count": null,
   "metadata": {
    "collapsed": false
   },
   "outputs": [
    {
     "name": "stdout",
     "output_type": "stream",
     "text": [
      " Gen Loss: 2.3003037 Dis Loss: 0.1082626"
     ]
    }
   ],
   "source": [
    "merged = tf.merge_all_summaries()\n",
    "\n",
    "with tf.Session() as sess:\n",
    "    sess.run(tf.initialize_all_variables())\n",
    "    writer = tf.train.SummaryWriter(log_dir,sess.graph)\n",
    "\n",
    "    count = 0\n",
    "    for e in range(100):\n",
    "        L=0\n",
    "        for i,request in enumerate(scheme.get_request_iterator()):\n",
    "            #need to generalise this to different data types?\n",
    "            ims,labels = mnist.get_data(state=state, request=request)\n",
    "\n",
    "            feed = feeder(ims,labels)\n",
    "            generated_ims = fetcher(sess,feed)\n",
    "\n",
    "            sess.run(dis_step,feed)\n",
    "            if i%50 == 0:\n",
    "                sess.run(gen_step,feed)\n",
    "            \n",
    "            if i%1000 == 0:\n",
    "                #Summaries\n",
    "                summary = sess.run(merged,feed_dict=feed)\n",
    "                writer.add_summary(summary, count)\n",
    "                count+=1"
   ]
  },
  {
   "cell_type": "code",
   "execution_count": null,
   "metadata": {
    "collapsed": true
   },
   "outputs": [],
   "source": []
  }
 ],
 "metadata": {
  "kernelspec": {
   "display_name": "Python 3",
   "language": "python",
   "name": "python3"
  },
  "language_info": {
   "codemirror_mode": {
    "name": "ipython",
    "version": 3
   },
   "file_extension": ".py",
   "mimetype": "text/x-python",
   "name": "python",
   "nbconvert_exporter": "python",
   "pygments_lexer": "ipython3",
   "version": "3.5.1"
  }
 },
 "nbformat": 4,
 "nbformat_minor": 0
}
